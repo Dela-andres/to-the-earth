{
  "cells": [
    {
      "cell_type": "markdown",
      "metadata": {
        "id": "pXduKP5pF9Ms"
      },
      "source": [
        "<center>\n",
        "    <img src=\"https://cf-courses-data.s3.us.cloud-object-storage.appdomain.cloud/IBMDeveloperSkillsNetwork-DS0105EN-SkillsNetwork/labs/Module2/images/SN_web_lightmode.png\" width=\"300\" alt=\"cognitiveclass.ai logo\">\n",
        "</center>\n"
      ]
    },
    {
      "cell_type": "markdown",
      "metadata": {
        "id": "8DannxZqF9Mu"
      },
      "source": [
        "#### Add your code below following the instructions given in the course\n"
      ]
    },
    {
      "cell_type": "markdown",
      "source": [
        "# Data Science Tools and Ecosystem"
      ],
      "metadata": {
        "id": "KC8aZPi8PVDr"
      }
    },
    {
      "cell_type": "markdown",
      "source": [
        "In this notebook, Data Science Tools and Ecosystem are summarized."
      ],
      "metadata": {
        "id": "uhOacb3KRO4g"
      }
    },
    {
      "cell_type": "markdown",
      "source": [
        "**Objectives:**\n",
        "\n",
        "\n",
        "*   List popular languages for Data Science\n",
        "*   List Some of the commonly used libraries used by Data Scientists\n",
        "*   List some of the Data Sciencs tolls\n",
        "*   Evaluating arithmetic expressions in Python\n",
        "\n",
        "\n"
      ],
      "metadata": {
        "id": "guHeK0hZ6Ke9"
      }
    },
    {
      "cell_type": "markdown",
      "source": [
        "Some of the popular languages that Data Scientists use are:\n",
        "\n",
        "\n",
        "*   Python\n",
        "*   R statistical language\n",
        "*   Julia\n",
        "*   Java\n",
        "*   C/C++\n",
        "*   SQL, and MATLAB\n",
        "\n",
        "\n"
      ],
      "metadata": {
        "id": "fgOI7ausGqHp"
      }
    },
    {
      "cell_type": "markdown",
      "source": [
        "Some of the commonly used libraries used by Data Scientists include:\n",
        "* Numpy\n",
        "* Pandas\n",
        "* Matplotlib\n",
        "* Saborn"
      ],
      "metadata": {
        "id": "YTo_1FaIVZxv"
      }
    },
    {
      "cell_type": "markdown",
      "source": [
        "\n",
        "| Data Science Tools |\n",
        "| ------------------ |\n",
        "| Jupyter Notebooks  |\n",
        "| Zeppelin Notebooks |\n",
        "| R Studio’s         |\n",
        "\n",
        "\n",
        "\n",
        "\n",
        "\n",
        "\n",
        "\n",
        "\n"
      ],
      "metadata": {
        "id": "FWAZn0pPXYgm"
      }
    },
    {
      "cell_type": "markdown",
      "source": [
        "### Below are a few examples of evaluating arithmetic expressions in Python"
      ],
      "metadata": {
        "id": "HM29K4eRZsS-"
      }
    },
    {
      "cell_type": "code",
      "source": [
        "(3*4)+5"
      ],
      "metadata": {
        "colab": {
          "base_uri": "https://localhost:8080/"
        },
        "id": "KPY7vwcKz4gR",
        "outputId": "77d70b22-d906-4cdf-fb3a-01828d043bd5"
      },
      "execution_count": 3,
      "outputs": [
        {
          "output_type": "execute_result",
          "data": {
            "text/plain": [
              "17"
            ]
          },
          "metadata": {},
          "execution_count": 3
        }
      ]
    },
    {
      "cell_type": "code",
      "source": [
        "200/60"
      ],
      "metadata": {
        "colab": {
          "base_uri": "https://localhost:8080/"
        },
        "id": "dntTurcv1fxc",
        "outputId": "84d8be77-ef4b-4ec2-cbc3-c9099166f5d1"
      },
      "execution_count": 6,
      "outputs": [
        {
          "output_type": "execute_result",
          "data": {
            "text/plain": [
              "3.3333333333333335"
            ]
          },
          "metadata": {},
          "execution_count": 6
        }
      ]
    },
    {
      "cell_type": "markdown",
      "source": [
        "## Author\n",
        "Andres de la Fuente"
      ],
      "metadata": {
        "id": "wB_czj3H24aZ"
      }
    }
  ],
  "metadata": {
    "kernelspec": {
      "display_name": "Python",
      "language": "python",
      "name": "conda-env-python-py"
    },
    "language_info": {
      "name": ""
    },
    "colab": {
      "provenance": []
    }
  },
  "nbformat": 4,
  "nbformat_minor": 0
}